{
 "cells": [
  {
   "cell_type": "code",
   "execution_count": 1,
   "metadata": {},
   "outputs": [
    {
     "name": "stdout",
     "output_type": "stream",
     "text": [
      "HW2-QuickSort-Implementation.ipynb\r\n"
     ]
    }
   ],
   "source": [
    "!ls"
   ]
  },
  {
   "cell_type": "code",
   "execution_count": 2,
   "metadata": {
    "collapsed": true
   },
   "outputs": [],
   "source": [
    "#import numpy as np\n",
    "#import pandas as pd\n",
    "\n",
    "#from __future__ import division\n",
    "from numpy import loadtxt"
   ]
  },
  {
   "cell_type": "code",
   "execution_count": 3,
   "metadata": {},
   "outputs": [
    {
     "name": "stdout",
     "output_type": "stream",
     "text": [
      "HW2-QuickSort-Implementation.ipynb\r\n"
     ]
    }
   ],
   "source": [
    "!ls"
   ]
  },
  {
   "cell_type": "code",
   "execution_count": 4,
   "metadata": {},
   "outputs": [
    {
     "name": "stdout",
     "output_type": "stream",
     "text": [
      "/Users/kevinli/src/Algorithms/2018/algorithms/kevin-solution/HW2\r\n"
     ]
    }
   ],
   "source": [
    "!pwd"
   ]
  },
  {
   "cell_type": "code",
   "execution_count": 5,
   "metadata": {},
   "outputs": [
    {
     "name": "stdout",
     "output_type": "stream",
     "text": [
      "IntegerArray.txt QuickSort.txt\r\n"
     ]
    }
   ],
   "source": [
    "!ls /Users/kevinli/src/Algorithms/2018/HW_Data/"
   ]
  },
  {
   "cell_type": "code",
   "execution_count": 6,
   "metadata": {
    "collapsed": true
   },
   "outputs": [],
   "source": [
    "from numpy import loadtxt"
   ]
  },
  {
   "cell_type": "code",
   "execution_count": 20,
   "metadata": {},
   "outputs": [],
   "source": [
    "integerArray = list(loadtxt(\"/Users/kevinli/src/Algorithms/2018/HW_Data/QuickSort.txt\"))"
   ]
  },
  {
   "cell_type": "code",
   "execution_count": 8,
   "metadata": {},
   "outputs": [
    {
     "data": {
      "text/plain": [
       "10000"
      ]
     },
     "execution_count": 8,
     "metadata": {},
     "output_type": "execute_result"
    }
   ],
   "source": [
    "len(integerArray)"
   ]
  },
  {
   "cell_type": "code",
   "execution_count": 9,
   "metadata": {},
   "outputs": [
    {
     "name": "stdout",
     "output_type": "stream",
     "text": [
      "[2148.0, 9058.0, 7742.0, 3153.0, 6324.0, 609.0, 7628.0, 5469.0, 7017.0, 504.0, 4092.0, 1582.0, 9572.0, 1542.0, 5697.0, 2081.0, 4218.0, 3130.0, 7923.0, 9595.0, 6558.0, 3859.0, 9832.0, 3062.0, 6788.0, 7578.0, 7432.0, 479.0, 8439.0, 9079.0, 7173.0, 2667.0, 2770.0, 2655.0, 972.0, 4264.0, 2014.0, 3171.0, 4715.0, 345.0, 4388.0, 3816.0, 8887.0, 3915.0, 3490.0, 2327.0, 123.0, 4596.0, 4307.0, 8737.0, 4007.0, 6798.0, 6551.0, 1627.0, 1190.0, 4984.0, 2480.0, 3404.0, 2027.0, 4778.0, 2951.0, 2795.0, 5002.0, 8121.0, 8910.0, 9593.0, 5254.0, 448.0, 6237.0, 5565.0, 1816.0, 392.0, 8143.0, 9310.0, 9293.0, 3138.0, 4869.0, 6756.0, 872.0, 6183.0, 3517.0, 3513.0, 1676.0, 5498.0, 9172.0, 5739.0, 6108.0, 7538.0, 7671.0, 5780.0, 8666.0, 540.0, 9771.0, 6837.0, 9341.0, 1590.0, 5689.0, 1605.0, 1103.0, 5859.0]\n"
     ]
    }
   ],
   "source": [
    "print(integerArray[0:100])"
   ]
  },
  {
   "cell_type": "code",
   "execution_count": 10,
   "metadata": {
    "collapsed": true
   },
   "outputs": [],
   "source": [
    "def quicksort_v1(inputArray, count=0):\n",
    "    '''\n",
    "    We will invoke the partition function and 2 recursive calls after the partition.\n",
    "    We sum up the total count throughout the entire recursion tree\n",
    "    '''\n",
    "    # At this level, we have a total of n - 1 comparisons in the for loop\n",
    "    count += len(inputArray) - 1\n",
    "    \n",
    "    ### We choose the first element in the array for the pivot\n",
    "\n",
    "    i = 1\n",
    "    j = 1\n",
    "    pivot = inputArray[0] \n",
    "    \n",
    "    \n",
    "    ### Partition \n",
    "    for k in range(1, len(inputArray)):\n",
    "        if inputArray[j] > pivot:\n",
    "            j += 1\n",
    "        else:\n",
    "            if i == 1 and j == 1:\n",
    "                i += 1\n",
    "                j += 1\n",
    "            else:\n",
    "                inputArray[i], inputArray[j] = inputArray[j], inputArray[i]\n",
    "                i += 1\n",
    "                j += 1\n",
    "                \n",
    "    inputArray[0], inputArray[i-1] = inputArray[i-1], inputArray[0] \n",
    "    \n",
    "    if len(inputArray[:i-1]) > 1:\n",
    "        count, inputArray[:i-1] = quicksort_v1(inputArray[:i-1], count)\n",
    "        \n",
    "    if len(inputArray[i:]) > 1:\n",
    "        count, inputArray[i:] = quicksort_v1(inputArray[i:], count)\n",
    "    return count, inputArray"
   ]
  },
  {
   "cell_type": "code",
   "execution_count": 14,
   "metadata": {
    "collapsed": true
   },
   "outputs": [],
   "source": [
    "def quicksort_v2(inputArray, count=0):\n",
    "    '''\n",
    "    We will invoke the partition function and 2 recursive calls after the partition.\n",
    "    We sum up the total count throughout the entire recursion tree\n",
    "    '''\n",
    "    # At this level, we have a total of n - 1 comparisons in the for loop\n",
    "    count += len(inputArray) - 1\n",
    "    \n",
    "    ### We choose the last element in the array for the pivot\n",
    "\n",
    "    i = 1\n",
    "    j = 1\n",
    "    \n",
    "    inputArray[0], inputArray[-1] = inputArray[-1], inputArray[0]\n",
    "    pivot = inputArray[0] \n",
    "    \n",
    "    \n",
    "    ### Partition \n",
    "    for k in range(1, len(inputArray)):\n",
    "        if inputArray[j] > pivot:\n",
    "            j += 1\n",
    "        else:\n",
    "            if i == 1 and j == 1:\n",
    "                i += 1\n",
    "                j += 1\n",
    "            else:\n",
    "                inputArray[i], inputArray[j] = inputArray[j], inputArray[i]\n",
    "                i += 1\n",
    "                j += 1\n",
    "                \n",
    "    inputArray[0], inputArray[i-1] = inputArray[i-1], inputArray[0] \n",
    "    \n",
    "    if len(inputArray[:i-1]) > 1:\n",
    "        count, inputArray[:i-1] = quicksort_v2(inputArray[:i-1], count)\n",
    "        \n",
    "    if len(inputArray[i:]) > 1:\n",
    "        count, inputArray[i:] = quicksort_v2(inputArray[i:], count)\n",
    "    return count, inputArray"
   ]
  },
  {
   "cell_type": "code",
   "execution_count": 19,
   "metadata": {
    "collapsed": true
   },
   "outputs": [],
   "source": [
    "def quicksort_v3(inputArray, count=0):\n",
    "    '''\n",
    "    We will invoke the partition function and 2 recursive calls after the partition.\n",
    "    We sum up the total count throughout the entire recursion tree\n",
    "    '''\n",
    "    # At this level, we have a total of n - 1 comparisons in the for loop\n",
    "    count += len(inputArray) - 1\n",
    "    \n",
    "    ### We choose the middle across the first, last, median element in the array for the pivot\n",
    "\n",
    "    i = 1\n",
    "    j = 1\n",
    "    \n",
    "    \n",
    "    pivot = sorted([inputArray[0], inputArray[-1], inputArray[int((len(inputArray)-1)/2)]])[1]\n",
    "    pivot_index = inputArray.index(pivot)\n",
    "    inputArray[0], inputArray[pivot_index] = inputArray[pivot_index], inputArray[0]\n",
    "    \n",
    "    ### Partition \n",
    "    for k in range(1, len(inputArray)):\n",
    "        if inputArray[j] > pivot:\n",
    "            j += 1\n",
    "        else:\n",
    "            if i == 1 and j == 1:\n",
    "                i += 1\n",
    "                j += 1\n",
    "            else:\n",
    "                inputArray[i], inputArray[j] = inputArray[j], inputArray[i]\n",
    "                i += 1\n",
    "                j += 1\n",
    "                \n",
    "    inputArray[0], inputArray[i-1] = inputArray[i-1], inputArray[0] \n",
    "    \n",
    "    if len(inputArray[:i-1]) > 1:\n",
    "        count, inputArray[:i-1] = quicksort_v3(inputArray[:i-1], count)\n",
    "        \n",
    "    if len(inputArray[i:]) > 1:\n",
    "        count, inputArray[i:] = quicksort_v3(inputArray[i:], count)\n",
    "    return count, inputArray"
   ]
  },
  {
   "cell_type": "code",
   "execution_count": 23,
   "metadata": {},
   "outputs": [],
   "source": [
    "testCase = [4,8,1,6,5,3,2,7]\n",
    "testCase = [4,1,2,6,5,3,8,7]\n",
    "# testCase = [8,1,4,6,5,3,2,7]\n",
    "# print(answer(testCase))\n",
    "#quicksort_v1(testCase)"
   ]
  },
  {
   "cell_type": "code",
   "execution_count": 25,
   "metadata": {},
   "outputs": [
    {
     "data": {
      "text/plain": [
       "7"
      ]
     },
     "execution_count": 25,
     "metadata": {},
     "output_type": "execute_result"
    }
   ],
   "source": [
    "testCase.index(7)"
   ]
  },
  {
   "cell_type": "code",
   "execution_count": 13,
   "metadata": {},
   "outputs": [
    {
     "data": {
      "text/plain": [
       "(22, [1, 2, 3, 4, 5, 6, 7, 8])"
      ]
     },
     "execution_count": 13,
     "metadata": {},
     "output_type": "execute_result"
    }
   ],
   "source": [
    "quicksort_v2(testCase)"
   ]
  },
  {
   "cell_type": "code",
   "execution_count": 11,
   "metadata": {},
   "outputs": [
    {
     "data": {
      "text/plain": [
       "162085"
      ]
     },
     "execution_count": 11,
     "metadata": {},
     "output_type": "execute_result"
    }
   ],
   "source": [
    "quicksort_v1(integerArray, 0)[0]"
   ]
  },
  {
   "cell_type": "code",
   "execution_count": 15,
   "metadata": {},
   "outputs": [
    {
     "data": {
      "text/plain": [
       "164123"
      ]
     },
     "execution_count": 15,
     "metadata": {},
     "output_type": "execute_result"
    }
   ],
   "source": [
    "quicksort_v2(integerArray, 0)[0]"
   ]
  },
  {
   "cell_type": "code",
   "execution_count": 21,
   "metadata": {},
   "outputs": [
    {
     "data": {
      "text/plain": [
       "138382"
      ]
     },
     "execution_count": 21,
     "metadata": {},
     "output_type": "execute_result"
    }
   ],
   "source": [
    "quicksort_v3(integerArray, 0)[0]"
   ]
  },
  {
   "cell_type": "code",
   "execution_count": 16,
   "metadata": {},
   "outputs": [
    {
     "data": {
      "text/plain": [
       "[2, 4, 6]"
      ]
     },
     "execution_count": 16,
     "metadata": {},
     "output_type": "execute_result"
    }
   ],
   "source": [
    "target = [4,8,1,6,5,3,2]\n",
    "pivot = sorted([target[0], target[-1], target[int((len(target)-1)/2)]])\n",
    "pivot"
   ]
  },
  {
   "cell_type": "code",
   "execution_count": 18,
   "metadata": {},
   "outputs": [
    {
     "data": {
      "text/plain": [
       "2"
      ]
     },
     "execution_count": 18,
     "metadata": {},
     "output_type": "execute_result"
    }
   ],
   "source": [
    "int((6-1)/2)"
   ]
  },
  {
   "cell_type": "code",
   "execution_count": null,
   "metadata": {
    "collapsed": true
   },
   "outputs": [],
   "source": []
  }
 ],
 "metadata": {
  "kernelspec": {
   "display_name": "Python 2",
   "language": "python",
   "name": "python2"
  },
  "language_info": {
   "codemirror_mode": {
    "name": "ipython",
    "version": 2
   },
   "file_extension": ".py",
   "mimetype": "text/x-python",
   "name": "python",
   "nbconvert_exporter": "python",
   "pygments_lexer": "ipython2",
   "version": "2.7.13"
  }
 },
 "nbformat": 4,
 "nbformat_minor": 2
}
