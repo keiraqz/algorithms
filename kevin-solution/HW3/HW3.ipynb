{
 "cells": [
  {
   "cell_type": "code",
   "execution_count": 1,
   "metadata": {},
   "outputs": [
    {
     "name": "stdout",
     "output_type": "stream",
     "text": [
      "HW3.ipynb\r\n"
     ]
    }
   ],
   "source": [
    "!ls"
   ]
  },
  {
   "cell_type": "code",
   "execution_count": 2,
   "metadata": {},
   "outputs": [
    {
     "name": "stdout",
     "output_type": "stream",
     "text": [
      "/Users/kevinli/src/Algorithms/2018/algorithms/kevin-solution/HW3\r\n"
     ]
    }
   ],
   "source": [
    "!pwd"
   ]
  },
  {
   "cell_type": "code",
   "execution_count": 3,
   "metadata": {},
   "outputs": [
    {
     "name": "stdout",
     "output_type": "stream",
     "text": [
      "IntegerArray.txt QuickSort.txt    kargerMinCut.txt\r\n"
     ]
    }
   ],
   "source": [
    "!ls /Users/kevinli/src/Algorithms/2018/HW_Data/"
   ]
  },
  {
   "cell_type": "code",
   "execution_count": 4,
   "metadata": {},
   "outputs": [
    {
     "name": "stdout",
     "output_type": "stream",
     "text": [
      "1\t37\t79\t164\t155\t32\t87\t39\t113\t15\t18\t78\t175\t140\t200\t4\t160\t97\t191\t100\t91\t20\t69\t198\t196\t\r",
      "\r\n",
      "2\t123\t134\t10\t141\t13\t12\t43\t47\t3\t177\t101\t179\t77\t182\t117\t116\t36\t103\t51\t154\t162\t128\t30\t\r",
      "\r\n",
      "3\t48\t123\t134\t109\t41\t17\t159\t49\t136\t16\t130\t141\t29\t176\t2\t190\t66\t153\t157\t70\t114\t65\t173\t104\t194\t54\t\r",
      "\r\n",
      "4\t91\t171\t118\t125\t158\t76\t107\t18\t73\t140\t42\t193\t127\t100\t84\t121\t60\t81\t99\t80\t150\t55\t1\t35\t23\t93\t\r",
      "\r\n",
      "5\t193\t156\t102\t118\t175\t39\t124\t119\t19\t99\t160\t75\t20\t112\t37\t23\t145\t135\t146\t73\t35\t\r",
      "\r\n",
      "6\t155\t56\t52\t120\t131\t160\t124\t119\t14\t196\t144\t25\t75\t76\t166\t35\t87\t26\t20\t32\t23\t\r",
      "\r\n",
      "7\t156\t185\t178\t79\t27\t52\t144\t107\t78\t22\t71\t26\t31\t15\t56\t76\t112\t39\t8\t113\t93\t\r",
      "\r\n",
      "8\t185\t155\t171\t178\t108\t64\t164\t53\t140\t25\t100\t133\t9\t52\t191\t46\t20\t150\t144\t39\t62\t131\t42\t119\t127\t31\t7\t\r",
      "\r\n",
      "9\t91\t155\t8\t160\t107\t132\t195\t26\t20\t133\t39\t76\t100\t78\t122\t127\t38\t156\t191\t196\t115\t\r",
      "\r\n",
      "10\t190\t184\t154\t49\t2\t182\t173\t170\t161\t47\t189\t101\t153\t50\t30\t109\t177\t148\t179\t16\t163\t116\t13\t90\t185\t\r",
      "\r\n"
     ]
    }
   ],
   "source": [
    "!head /Users/kevinli/src/Algorithms/2018/HW_Data/kargerMinCut.txt"
   ]
  },
  {
   "cell_type": "code",
   "execution_count": 5,
   "metadata": {
    "collapsed": true
   },
   "outputs": [],
   "source": [
    "import numpy as np\n",
    "import pandas as pd\n",
    "\n",
    "global graph"
   ]
  },
  {
   "cell_type": "code",
   "execution_count": 6,
   "metadata": {
    "collapsed": true
   },
   "outputs": [],
   "source": [
    "from collections import defaultdict\n",
    "from random import choice\n",
    "from copy import deepcopy\n",
    "\n",
    "f  = open('/Users/kevinli/src/Algorithms/2018/HW_Data/kargerMinCut.txt', 'r')\n",
    "raw = f.readlines()\n",
    "\n",
    "EdgesDict = defaultdict(list)\n",
    "for i in range(len(raw)):\n",
    "    tmp = raw[i].split('\\t')[:-1]\n",
    "    for j in tmp[1:]:\n",
    "        EdgesDict[tmp[0]].append(j)\n",
    "        "
   ]
  },
  {
   "cell_type": "code",
   "execution_count": 7,
   "metadata": {},
   "outputs": [
    {
     "data": {
      "text/plain": [
       "'79'"
      ]
     },
     "execution_count": 7,
     "metadata": {},
     "output_type": "execute_result"
    }
   ],
   "source": [
    "EdgesDict['1'][1]"
   ]
  },
  {
   "cell_type": "code",
   "execution_count": 8,
   "metadata": {
    "collapsed": true
   },
   "outputs": [],
   "source": [
    "def minCut(Edges):\n",
    "    while len(Edges.keys()) > 2:        \n",
    "        head, tail = choice([(key, value) for key in Edges.keys() for value in Edges[key]])\n",
    "\n",
    "        tmp = []\n",
    "        for h in Edges[tail]:\n",
    "            if h != head:\n",
    "                tmp.append(h)\n",
    "                for ind2, h2 in enumerate(Edges[h]):\n",
    "                    if h2 == tail:\n",
    "                        Edges[h][ind2] = head\n",
    "        Edges[tail] = tmp\n",
    "        Edges[head] = [x for x in Edges[head] if x != tail] + Edges[tail]\n",
    "        del Edges[tail]\n",
    "\n",
    "    once = len(list(Edges.items())[0][1]) \n",
    "    #print()\n",
    "    return once"
   ]
  },
  {
   "cell_type": "code",
   "execution_count": 9,
   "metadata": {},
   "outputs": [
    {
     "name": "stdout",
     "output_type": "stream",
     "text": [
      "17\n"
     ]
    }
   ],
   "source": [
    "min = len(raw)-1\n",
    "for i in range(len(raw)):\n",
    "    Edges = deepcopy(EdgesDict)\n",
    "    once = minCut(Edges)\n",
    "    if once < min:\n",
    "        min = once\n",
    "print(min)"
   ]
  },
  {
   "cell_type": "markdown",
   "metadata": {},
   "source": [
    "### Method 2: Using Graph Data Structure"
   ]
  },
  {
   "cell_type": "code",
   "execution_count": null,
   "metadata": {
    "collapsed": true
   },
   "outputs": [],
   "source": []
  }
 ],
 "metadata": {
  "kernelspec": {
   "display_name": "Python 2",
   "language": "python",
   "name": "python2"
  },
  "language_info": {
   "codemirror_mode": {
    "name": "ipython",
    "version": 2
   },
   "file_extension": ".py",
   "mimetype": "text/x-python",
   "name": "python",
   "nbconvert_exporter": "python",
   "pygments_lexer": "ipython2",
   "version": "2.7.13"
  }
 },
 "nbformat": 4,
 "nbformat_minor": 2
}
